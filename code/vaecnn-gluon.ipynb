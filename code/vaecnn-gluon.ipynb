{
 "cells": [
  {
   "cell_type": "markdown",
   "metadata": {},
   "source": [
    "# Implementation of Variational Autoencoder in MXNet/Gluon\n",
    "\n",
    "This is the implementation using the new Gluon API, i.e. gluon.HybridBlock and autograd.\n",
    "\n",
    "Instead of using fully connected layers we used CNN (similar to the one used in DCGAN) in this implementation to parameterize recognition and generation network.\n",
    "\n",
    "Ref paper: Kingma, Diederik P., and Max Welling. [\"Auto-encoding variational bayes.\"](https://arxiv.org/abs/1312.6114) arXiv preprint arXiv:1312.6114 (2013)."
   ]
  },
  {
   "cell_type": "code",
   "execution_count": 1,
   "metadata": {},
   "outputs": [],
   "source": [
    "import time\n",
    "import numpy as np\n",
    "import mxnet as mx\n",
    "from tqdm import tqdm, tqdm_notebook\n",
    "from mxnet import nd, autograd, gluon\n",
    "from mxnet.gluon import nn\n",
    "import matplotlib.pyplot as plt\n",
    "%matplotlib inline\n",
    "data_ctx = mx.cpu()\n",
    "model_ctx = mx.gpu(0)\n",
    "mx.random.seed(1)\n",
    "output_fig = False"
   ]
  },
  {
   "cell_type": "markdown",
   "metadata": {},
   "source": [
    "# Load MNIST"
   ]
  },
  {
   "cell_type": "code",
   "execution_count": 2,
   "metadata": {},
   "outputs": [
    {
     "data": {
      "image/png": "[encoded data removed]",
      "text/plain": [
       "<matplotlib.figure.Figure at 0x2aedce5cc88>"
      ]
     },
     "metadata": {},
     "output_type": "display_data"
    }
   ],
   "source": [
    "mnist = mx.test_utils.get_mnist()\n",
    "#print(mnist['train_data'][0].shape)\n",
    "#plt.imshow(mnist['train_data'][0][0],cmap='Greys')\n",
    "\n",
    "n_samples = 10\n",
    "idx = np.random.choice(len(mnist['train_data']), n_samples)\n",
    "_, axarr = plt.subplots(1, n_samples, figsize=(16,4))\n",
    "for i,j in enumerate(idx):\n",
    "    axarr[i].imshow(mnist['train_data'][j][0], cmap='Greys')\n",
    "    #axarr[i].axis('off')\n",
    "    axarr[i].get_xaxis().set_ticks([])\n",
    "    axarr[i].get_yaxis().set_ticks([])\n",
    "plt.show()"
   ]
  },
  {
   "cell_type": "code",
   "execution_count": 3,
   "metadata": {},
   "outputs": [],
   "source": [
    "#train_data = np.reshape(mnist['train_data'],(-1,28*28))\n",
    "#test_data = np.reshape(mnist['test_data'],(-1,28*28))\n",
    "train_data = mnist['train_data']\n",
    "test_data = mnist['test_data']"
   ]
  },
  {
   "cell_type": "code",
   "execution_count": 4,
   "metadata": {},
   "outputs": [
    {
     "data": {
      "text/plain": [
       "(10000, 1, 28, 28)"
      ]
     },
     "execution_count": 4,
     "metadata": {},
     "output_type": "execute_result"
    }
   ],
   "source": [
    "mnist['test_data'].shape"
   ]
  },
  {
   "cell_type": "code",
   "execution_count": 5,
   "metadata": {},
   "outputs": [],
   "source": [
    "batch_size = 100\n",
    "n_batches = train_data.shape[0]/batch_size\n",
    "train_iter = mx.io.NDArrayIter(data={'data': train_data}, label={'label': mnist['train_label']}, batch_size = batch_size)\n",
    "test_iter = mx.io.NDArrayIter(data={'data': test_data}, label={'label': mnist['test_label']}, batch_size = batch_size)\n",
    "#train_iter = mx.io.NDArrayIter(data={'data': train_data}, batch_size = batch_size)\n",
    "#test_iter = mx.io.NDArrayIter(data={'data': test_data}, batch_size = batch_size)"
   ]
  },
  {
   "cell_type": "markdown",
   "metadata": {},
   "source": [
    "# Define model"
   ]
  },
  {
   "cell_type": "code",
   "execution_count": 6,
   "metadata": {},
   "outputs": [],
   "source": [
    "class Reshape(gluon.HybridBlock):\n",
    "    def __init__(self, target_shape, **kwargs):\n",
    "        super().__init__(**kwargs)\n",
    "        self.target_shape = target_shape\n",
    "\n",
    "    def hybrid_forward(self, F, x):\n",
    "        #print(x.shape)\n",
    "        return x.reshape((0, *self.target_shape)) # setting the first axis to 0 to copy over the original shape, i.e. batch_size\n",
    "\n",
    "    def __repr__(self):\n",
    "        return self.__class__.__name__\n",
    "\n",
    "\n",
    "class VAE(gluon.HybridBlock):\n",
    "    def __init__(self, n_ch=np.array([4,8,16])*4, ks=[4,4,4], stride=[2,2,2], pad=[3,1,1], \n",
    "                 n_latent=3, n_layers=1, batch_size=100, act_type='relu', use_bias=True, \n",
    "                 do_batch_norm = False, **kwargs):\n",
    "        self.soft_zero = 1e-10\n",
    "        self.n_latent = n_latent\n",
    "        self.batch_size = batch_size\n",
    "        self.output = None\n",
    "        self.mu = None\n",
    "        # note to self: requring batch_size in model definition is sad, not sure how to deal with this otherwise though\n",
    "        super().__init__(**kwargs)\n",
    "\n",
    "        img_size =[28]\n",
    "        with self.name_scope():\n",
    "            self.encoder = nn.HybridSequential(prefix='encoder')\n",
    "            for i in range(n_layers):\n",
    "                self.encoder.add(nn.Conv2D(channels=n_ch[i], kernel_size=ks[i], strides=stride[i], padding=pad[i], \n",
    "                                           activation=act_type, use_bias=use_bias))\n",
    "                old_size = img_size[-1] + 2*pad[i]\n",
    "                new_size = (old_size - (ks[i] - stride[i]))// stride[i]\n",
    "                #print(new_size)\n",
    "                img_size.append(new_size)\n",
    "                if i < n_layers-1 and do_batch_norm:\n",
    "                    self.encoder.add(nn.BatchNorm())\n",
    "\n",
    "            self.encoder.add(nn.Flatten())\n",
    "            #self.encoder.add(nn.Dense(100, activation=act_type)) \n",
    "            self.encoder.add(nn.Dense(n_latent*2, activation=None)) \n",
    "            \n",
    "            \n",
    "            self.decoder = nn.HybridSequential(prefix='decoder')\n",
    "            #self.decoder.add(nn.Dense(100, activation=act_type)) \n",
    "            self.decoder.add(nn.Dense(img_size[-1]*img_size[-1]*n_ch[-1], activation=act_type))\n",
    "            self.decoder.add(Reshape((n_ch[-1], img_size[-1], img_size[-1])))\n",
    "            for i in range(n_layers-1, -1, -1):\n",
    "\n",
    "                if i == 0:\n",
    "                    act_type = 'sigmoid'\n",
    "                    ch = 1\n",
    "                else:\n",
    "                    ch = n_ch[i-1]\n",
    "                    \n",
    "                self.decoder.add(nn.Conv2DTranspose(channels=ch, kernel_size=ks[i], strides=stride[i], \n",
    "                                                    padding=pad[i], activation=act_type, use_bias=use_bias))\n",
    "                if i >0 and do_batch_norm:\n",
    "                    self.encoder.add(nn.BatchNorm())\n",
    "\n",
    "                \n",
    "    def hybrid_forward(self, F, x):\n",
    "        h = self.encoder(x)\n",
    "        #print(h)\n",
    "        mu_lv = F.split(h, axis=1, num_outputs=2)\n",
    "        mu = mu_lv[0]\n",
    "        lv = mu_lv[1]\n",
    "        self.mu = mu\n",
    "        #eps = F.random_normal(loc=0, scale=1, shape=mu.shape, ctx=model_ctx) \n",
    "        # this would work fine only for nd (i.e. non-hybridized block)\n",
    "        eps = F.random_normal(loc=0, scale=1, shape=(self.batch_size, self.n_latent), ctx=model_ctx)\n",
    "        z = mu + F.exp(0.5*lv)*eps\n",
    "        y = self.decoder(z)\n",
    "\n",
    "        y = y.reshape((0,-1))\n",
    "        x = x.reshape((0,-1))\n",
    "        self.output = y\n",
    "        \n",
    "        KL = 0.5*F.sum(1+lv-mu*mu-F.exp(lv),axis=1)\n",
    "        logloss = F.sum(x*F.log(y+self.soft_zero)+ (1-x)*F.log(1-y+self.soft_zero), axis=1)\n",
    "        loss = -logloss-KL\n",
    "        \n",
    "        return loss"
   ]
  },
  {
   "cell_type": "code",
   "execution_count": 7,
   "metadata": {},
   "outputs": [],
   "source": [
    "n_latent=100\n",
    "n_layers=3 # num of dense layers in encoder and decoder respectively\n",
    "model_prefix = 'vaecnn_gluon.params'\n",
    "\n",
    "net = VAE(n_latent=n_latent, n_layers=n_layers, batch_size=batch_size)"
   ]
  },
  {
   "cell_type": "code",
   "execution_count": 8,
   "metadata": {},
   "outputs": [],
   "source": [
    "x = nd.random.normal(shape=(100,1,28,28), ctx=model_ctx)\n",
    "net.collect_params().initialize(mx.init.Xavier(), ctx=model_ctx)"
   ]
  },
  {
   "cell_type": "code",
   "execution_count": 9,
   "metadata": {},
   "outputs": [
    {
     "data": {
      "text/plain": [
       "(100, 1, 28, 28)"
      ]
     },
     "execution_count": 9,
     "metadata": {},
     "output_type": "execute_result"
    }
   ],
   "source": [
    "#net.encoder(x).shape\n",
    "net.decoder(net.encoder(x)).shape"
   ]
  },
  {
   "cell_type": "code",
   "execution_count": 10,
   "metadata": {},
   "outputs": [
    {
     "data": {
      "text/plain": [
       "\n",
       "[ 546.06201172  545.53796387  544.4074707   544.19537354  545.38684082\n",
       "  544.65002441  544.71551514  545.89727783  544.57885742  543.54858398\n",
       "  544.64135742  543.77264404  545.13153076  544.36578369  545.32037354\n",
       "  543.809021    545.52612305  545.95800781  544.73297119  544.39874268\n",
       "  545.74047852  543.75219727  544.55889893  545.34753418  543.24841309\n",
       "  545.53546143  544.65734863  544.09979248  545.3168335   544.69390869\n",
       "  546.03131104  545.4463501   545.23590088  546.28057861  545.41009521\n",
       "  544.92681885  544.93328857  544.43426514  544.87414551  545.15942383\n",
       "  545.28277588  544.64105225  544.15570068  545.71075439  545.38598633\n",
       "  545.50579834  544.54016113  543.35552979  545.65466309  545.78479004\n",
       "  545.89532471  544.95196533  545.56799316  543.90716553  544.16644287\n",
       "  544.49456787  545.82507324  545.60534668  545.86523438  543.34423828\n",
       "  545.19366455  544.73553467  543.7041626   543.7723999   544.83898926\n",
       "  545.00488281  544.32824707  546.16003418  544.12530518  545.0111084\n",
       "  545.12792969  545.07617188  544.95513916  544.73693848  543.88604736\n",
       "  545.25732422  546.05053711  547.10754395  544.11456299  544.38763428\n",
       "  543.24206543  544.23150635  544.25482178  543.01385498  543.39642334\n",
       "  544.87512207  546.18731689  545.75134277  545.22277832  544.31976318\n",
       "  546.71716309  545.74285889  545.81549072  546.0269165   545.50567627\n",
       "  545.02563477  545.15045166  545.81072998  546.50354004  545.23431396]\n",
       "<NDArray 100 @gpu(0)>"
      ]
     },
     "execution_count": 10,
     "metadata": {},
     "output_type": "execute_result"
    }
   ],
   "source": [
    "net = VAE(n_latent=n_latent, n_layers=n_layers, batch_size=batch_size)\n",
    "net.collect_params().initialize(mx.init.Xavier(), ctx=model_ctx)\n",
    "net(x)"
   ]
  },
  {
   "cell_type": "markdown",
   "metadata": {},
   "source": [
    "# Model training"
   ]
  },
  {
   "cell_type": "code",
   "execution_count": 11,
   "metadata": {},
   "outputs": [],
   "source": [
    "net = VAE(n_latent=n_latent, n_layers=n_layers, batch_size=batch_size)\n",
    "net.collect_params().initialize(mx.init.Xavier(), ctx=model_ctx)\n",
    "net.hybridize()\n",
    "trainer = gluon.Trainer(net.collect_params(), 'adam', {'learning_rate': .0005})"
   ]
  },
  {
   "cell_type": "code",
   "execution_count": 12,
   "metadata": {},
   "outputs": [
    {
     "data": {
      "application/vnd.jupyter.widget-view+json": {
       "model_id": "f61ebabcdb044432ac3bfe6e207d99c7",
       "version_major": 2,
       "version_minor": 0
      },
      "text/html": [
       "<p>Failed to display Jupyter Widget of type <code>HBox</code>.</p>\n",
       "<p>\n",
       "  If you're reading this message in the Jupyter Notebook or JupyterLab Notebook, it may mean\n",
       "  that the widgets JavaScript is still loading. If this message persists, it\n",
       "  likely means that the widgets JavaScript library is either not installed or\n",
       "  not enabled. See the <a href=\"https://ipywidgets.readthedocs.io/en/stable/user_install.html\">Jupyter\n",
       "  Widgets Documentation</a> for setup instructions.\n",
       "</p>\n",
       "<p>\n",
       "  If you're reading this message in another frontend (for example, a static\n",
       "  rendering on GitHub or <a href=\"https://nbviewer.jupyter.org/\">NBViewer</a>),\n",
       "  it may mean that your frontend doesn't currently support widgets.\n",
       "</p>\n"
      ],
      "text/plain": [
       "HBox(children=(IntProgress(value=0, description='epochs: ', max=50), HTML(value='')))"
      ]
     },
     "metadata": {},
     "output_type": "display_data"
    },
    {
     "name": "stdout",
     "output_type": "stream",
     "text": [
      "Epoch 0, Training loss 199.280682322, Validation loss 146.589102173\n",
      "Epoch 5, Training loss 108.088542442, Validation loss 106.836221542\n",
      "Epoch 10, Training loss 103.571974131, Validation loss 102.817866974\n",
      "Epoch 15, Training loss 101.714880193, Validation loss 101.300068817\n",
      "Epoch 20, Training loss 100.513956617, Validation loss 100.141811981\n",
      "Epoch 25, Training loss 99.6662532298, Validation loss 99.4761208344\n",
      "Epoch 30, Training loss 99.0791517258, Validation loss 99.0510205841\n",
      "Epoch 35, Training loss 98.6449058151, Validation loss 98.5340620422\n",
      "Epoch 40, Training loss 98.2070299784, Validation loss 98.3140554047\n",
      "Epoch 45, Training loss 97.8333548228, Validation loss 97.715945282\n",
      "\n",
      "Time elapsed: 248.27s\n"
     ]
    }
   ],
   "source": [
    "n_epoch = 50\n",
    "print_period = n_epoch // 10\n",
    "start = time.time()\n",
    "\n",
    "training_loss = []\n",
    "validation_loss = []\n",
    "for epoch in tqdm_notebook(range(n_epoch), desc='epochs'):\n",
    "    epoch_loss = 0\n",
    "    epoch_val_loss = 0\n",
    "    \n",
    "    train_iter.reset()\n",
    "    test_iter.reset()\n",
    "    \n",
    "    n_batch_train = 0\n",
    "    for batch in train_iter:\n",
    "        n_batch_train +=1\n",
    "        data = batch.data[0].as_in_context(model_ctx)\n",
    "        with autograd.record():\n",
    "            loss = net(data)\n",
    "        loss.backward()\n",
    "        trainer.step(data.shape[0])\n",
    "        epoch_loss += nd.mean(loss).asscalar()\n",
    "    \n",
    "    n_batch_val = 0\n",
    "    for batch in test_iter:\n",
    "        n_batch_val +=1\n",
    "        data = batch.data[0].as_in_context(model_ctx)\n",
    "        loss = net(data)\n",
    "        epoch_val_loss += nd.mean(loss).asscalar()\n",
    "    \n",
    "    epoch_loss /= n_batch_train\n",
    "    epoch_val_loss /= n_batch_val\n",
    "    \n",
    "    training_loss.append(epoch_loss)\n",
    "    validation_loss.append(epoch_val_loss)\n",
    "    \n",
    "    if epoch % max(print_period,1) == 0:\n",
    "        tqdm.write('Epoch %d, Training loss %s, Validation loss %s' % (epoch, epoch_loss, epoch_val_loss))\n",
    "        \n",
    "end = time.time()\n",
    "print('Time elapsed: {:.2f}s'.format(end - start))"
   ]
  },
  {
   "cell_type": "code",
   "execution_count": 13,
   "metadata": {},
   "outputs": [],
   "source": [
    "net.save_params(model_prefix)"
   ]
  },
  {
   "cell_type": "code",
   "execution_count": 14,
   "metadata": {},
   "outputs": [
    {
     "data": {
      "text/plain": [
       "<matplotlib.legend.Legend at 0x2ae934924e0>"
      ]
     },
     "execution_count": 14,
     "metadata": {},
     "output_type": "execute_result"
    },
    {
     "data": {
      "image/png": "[encoded data removed]",
      "text/plain": [
       "<matplotlib.figure.Figure at 0x2aee0b9b320>"
      ]
     },
     "metadata": {},
     "output_type": "display_data"
    }
   ],
   "source": [
    "batch_x = np.linspace(1, n_epoch, len(training_loss))\n",
    "plt.plot(batch_x, -1*np.array(training_loss))\n",
    "plt.plot(batch_x, -1*np.array(validation_loss))\n",
    "plt.legend(['train', 'valid'])"
   ]
  },
  {
   "cell_type": "markdown",
   "metadata": {},
   "source": [
    "# Load model"
   ]
  },
  {
   "cell_type": "code",
   "execution_count": 15,
   "metadata": {},
   "outputs": [],
   "source": [
    "net2 = VAE(n_latent=n_latent, n_layers=n_layers, batch_size=batch_size)\n",
    "net2.load_params(model_prefix, ctx=model_ctx)"
   ]
  },
  {
   "cell_type": "markdown",
   "metadata": {},
   "source": [
    "# Visualizing reconstruction quality"
   ]
  },
  {
   "cell_type": "code",
   "execution_count": 16,
   "metadata": {},
   "outputs": [],
   "source": [
    "test_iter.reset()\n",
    "test_batch = test_iter.next()\n",
    "net2(test_batch.data[0].as_in_context(model_ctx))\n",
    "result = net2.output.asnumpy()\n",
    "original = test_batch.data[0].asnumpy()"
   ]
  },
  {
   "cell_type": "code",
   "execution_count": 17,
   "metadata": {},
   "outputs": [
    {
     "data": {
      "image/png": "[encoded data removed]",
      "text/plain": [
       "<matplotlib.figure.Figure at 0x2ae934e96d8>"
      ]
     },
     "metadata": {},
     "output_type": "display_data"
    }
   ],
   "source": [
    "n_samples = 10\n",
    "idx = np.random.choice(batch_size, n_samples)\n",
    "_, axarr = plt.subplots(2, n_samples, figsize=(16,4))\n",
    "for i,j in enumerate(idx):\n",
    "    axarr[0,i].imshow(original[j].reshape((28,28)), cmap='Greys')\n",
    "    if i==0:\n",
    "        axarr[0,i].set_title('original')\n",
    "    #axarr[0,i].axis('off')\n",
    "    axarr[0,i].get_xaxis().set_ticks([])\n",
    "    axarr[0,i].get_yaxis().set_ticks([])\n",
    "\n",
    "    axarr[1,i].imshow(result[j].reshape((28,28)), cmap='Greys')\n",
    "    if i==0:\n",
    "        axarr[1,i].set_title('reconstruction')\n",
    "    #axarr[1,i].axis('off')\n",
    "    axarr[1,i].get_xaxis().set_ticks([])\n",
    "    axarr[1,i].get_yaxis().set_ticks([])\n",
    "plt.show()"
   ]
  },
  {
   "cell_type": "markdown",
   "metadata": {},
   "source": [
    "# Visualizing latent space (when it is 2D)"
   ]
  },
  {
   "cell_type": "code",
   "execution_count": 18,
   "metadata": {},
   "outputs": [],
   "source": [
    "n_batches = 10\n",
    "counter = 0\n",
    "results = []\n",
    "labels = []\n",
    "for batch in test_iter:\n",
    "    net2(batch.data[0].as_in_context(model_ctx))\n",
    "    results.append(net2.mu.asnumpy())\n",
    "    labels.append(batch.label[0].asnumpy())\n",
    "    counter +=1\n",
    "    if counter >= n_batches:\n",
    "        break"
   ]
  },
  {
   "cell_type": "code",
   "execution_count": 19,
   "metadata": {},
   "outputs": [],
   "source": [
    "result= np.vstack(results)\n",
    "labels = np.hstack(labels)"
   ]
  },
  {
   "cell_type": "code",
   "execution_count": 20,
   "metadata": {},
   "outputs": [],
   "source": [
    "if result.shape[1]==2:\n",
    "    from scipy.special import ndtri\n",
    "    from scipy.stats import norm\n",
    "\n",
    "    fig, axarr = plt.subplots(1,2, figsize=(10,4))\n",
    "    im=axarr[0].scatter(result[:, 0], result[:, 1], c=labels, alpha=0.6, cmap='Paired')\n",
    "    axarr[0].set_title('scatter plot of $\\mu$')\n",
    "    axarr[0].axis('equal')\n",
    "    fig.colorbar(im, ax=axarr[0])\n",
    "\n",
    "    im=axarr[1].scatter(norm.cdf(result[:, 0]), norm.cdf(result[:, 1]), c=labels, alpha=0.6, cmap='Paired')\n",
    "    axarr[1].set_title('scatter plot of $\\mu$ on norm.cdf() transformed coordinates')\n",
    "    axarr[1].axis('equal')\n",
    "    fig.colorbar(im, ax=axarr[1])\n",
    "    plt.tight_layout()\n",
    "    if output_fig:\n",
    "        plt.savefig('2d_latent_space_for_test_samples.png')"
   ]
  },
  {
   "cell_type": "markdown",
   "metadata": {},
   "source": [
    "# Sample latent space and generate images"
   ]
  },
  {
   "cell_type": "markdown",
   "metadata": {},
   "source": [
    "## Random sampling"
   ]
  },
  {
   "cell_type": "code",
   "execution_count": 21,
   "metadata": {},
   "outputs": [],
   "source": [
    "n_samples = 10\n",
    "zsamples = nd.array(np.random.randn(n_samples*n_samples, n_latent))"
   ]
  },
  {
   "cell_type": "code",
   "execution_count": 22,
   "metadata": {},
   "outputs": [],
   "source": [
    "images = net2.decoder(zsamples.as_in_context(model_ctx)).asnumpy()"
   ]
  },
  {
   "cell_type": "code",
   "execution_count": 23,
   "metadata": {},
   "outputs": [
    {
     "data": {
      "image/png": "[encoded data removed]",
      "text/plain": [
       "<matplotlib.figure.Figure at 0x2aeb7d57908>"
      ]
     },
     "metadata": {},
     "output_type": "display_data"
    }
   ],
   "source": [
    "canvas = np.empty((28*n_samples, 28*n_samples))\n",
    "for i, img in enumerate(images):\n",
    "    x = i // n_samples\n",
    "    y = i % n_samples\n",
    "    canvas[(n_samples-y-1)*28:(n_samples-y)*28, x*28:(x+1)*28] = img.reshape(28, 28)\n",
    "plt.figure(figsize=(4, 4))        \n",
    "plt.imshow(canvas, origin=\"upper\", cmap=\"Greys\")\n",
    "plt.axis('off')\n",
    "plt.tight_layout()\n",
    "if output_fig:\n",
    "    plt.savefig('generated_samples_with_{}D_latent_space.png'.format(n_latent))"
   ]
  },
  {
   "cell_type": "markdown",
   "metadata": {},
   "source": [
    "## Grid scan 2D latent space"
   ]
  },
  {
   "cell_type": "code",
   "execution_count": 24,
   "metadata": {},
   "outputs": [],
   "source": [
    "if n_latent==2: \n",
    "    n_pts = 20\n",
    "\n",
    "    idx = np.arange(0, n_pts)\n",
    "\n",
    "    x = np.linspace(norm.cdf(-3), norm.cdf(3),n_pts)\n",
    "    x = ndtri(x)\n",
    "\n",
    "    x_grid = np.array(np.meshgrid(*[i for i in np.matlib.repmat(x,n_latent,1)]))\n",
    "    id_grid = np.array(np.meshgrid(*[i for i in np.matlib.repmat(idx,n_latent,1)]))\n",
    "\n",
    "    zsamples = nd.array(x_grid.reshape((n_latent, -1)).transpose())\n",
    "    zsamples_id = id_grid.reshape((n_latent, -1)).transpose()\n",
    "\n",
    "    images = net2.decoder(zsamples.as_in_context(model_ctx)).asnumpy()\n",
    "\n",
    "    #plot\n",
    "    canvas = np.empty((28*n_pts, 28*n_pts))\n",
    "    for i, img in enumerate(images):\n",
    "        #plt.imshow(img.reshape(28,28))\n",
    "        x, y = zsamples_id[i]\n",
    "        canvas[(n_pts-y-1)*28:(n_pts-y)*28, x*28:(x+1)*28] = img.reshape(28, 28)\n",
    "    plt.figure(figsize=(6, 6))        \n",
    "    plt.imshow(canvas, origin=\"upper\", cmap=\"Greys\")\n",
    "    plt.axis('off')\n",
    "    plt.tight_layout()\n",
    "    if output_fig:\n",
    "        plt.savefig('2d_latent_space_scan_for_generation.png')"
   ]
  }
 ],
 "metadata": {
  "kernelspec": {
   "display_name": "Python 3",
   "language": "python",
   "name": "python3"
  },
  "language_info": {
   "codemirror_mode": {
    "name": "ipython",
    "version": 3
   },
   "file_extension": ".py",
   "mimetype": "text/x-python",
   "name": "python",
   "nbconvert_exporter": "python",
   "pygments_lexer": "ipython3",
   "version": "3.5.2"
  },
  "widgets": {
   "state": {
    "013831ad95a14b50989742a490b65ad0": {
     "views": []
    },
    "060dbcfa0dbf4ec79c19a6082dfcde16": {
     "views": []
    },
    "064f5c79b47748cc85671b2dfe3a7b11": {
     "views": []
    },
    "075482b08bf8473d84a539c6ed4a2cd5": {
     "views": []
    },
    "0d438ff52cc74867852a17039f872b30": {
     "views": []
    },
    "0de6820e97e64c0e9ba1713cb31270c5": {
     "views": []
    },
    "11ceed56010c4035a8e00f0e777a32ef": {
     "views": []
    },
    "128439858fca48bf896e3bc048e434c6": {
     "views": []
    },
    "17badb0485644615ace649fbf7221b2b": {
     "views": []
    },
    "252bad49b82041cf937f3957f2738138": {
     "views": []
    },
    "2757715fdbed476fae6764d36440abf4": {
     "views": []
    },
    "28b36582d56742e991cbb4eeaaaa6815": {
     "views": []
    },
    "2c15dc27263a4aeba4ad716d26a6eb51": {
     "views": []
    },
    "2c3383be9c2b42139fa75dcaa0f76362": {
     "views": []
    },
    "2d2404d2cbea46eca2df100d4a216ab0": {
     "views": []
    },
    "312a7d065faf42efa6d590abd99af6e4": {
     "views": []
    },
    "3609be49f4754b619ee5f9b8dd5655c2": {
     "views": []
    },
    "367462141a584d36b8c116e322840ec2": {
     "views": []
    },
    "3bcccfd7f2a048d1ba7277cbfef35070": {
     "views": []
    },
    "3cc84227a2994ae68724d39f91fe4888": {
     "views": []
    },
    "3d2398ca4f0444a28f20c5526cc17f60": {
     "views": []
    },
    "42d4a8624c5d43cdafe4d95b6093088d": {
     "views": []
    },
    "430e7722f893454fb6fb6d7067038a52": {
     "views": []
    },
    "45bce29afb8e45f989b2a7ce35bafc06": {
     "views": []
    },
    "4d3698d1eb7445f39af9a8551e125574": {
     "views": []
    },
    "59278d56d73b42a3b54cc5486ec9d28a": {
     "views": []
    },
    "5a88eafb8bd041df90e5b03b9dbd2930": {
     "views": []
    },
    "5cac8f55cbd447bd8e04714c0be9cfdd": {
     "views": []
    },
    "613f4b7c012547f8809bebac99130b1f": {
     "views": []
    },
    "66fe705008014e34bd1b66a97ca00a52": {
     "views": []
    },
    "693e5755d56d453ea1b30f08bd3cb264": {
     "views": []
    },
    "6ccbd5c95fbb4cd3b610be1af7b0cb28": {
     "views": []
    },
    "70bd4dc3920145df96c0ada89dd26eb7": {
     "views": []
    },
    "744afe6e043f41b4ae79c8638e8e983f": {
     "views": []
    },
    "7843ec29c508499bb945789fdb7b482c": {
     "views": []
    },
    "78d7e99ed96e463f897c738a52f30baf": {
     "views": [
      {
       "cell_index": 13
      }
     ]
    },
    "7d524cdb5a314099b9c5a4152c6b129e": {
     "views": []
    },
    "7d5f644a33f6467bba4d1b5bd1962c0f": {
     "views": []
    },
    "7e879703f4574bac9de4137d1155c8ce": {
     "views": []
    },
    "7e8d33c949fb426e81125f082b7deb7c": {
     "views": []
    },
    "81125a7384804e539de58b79c381d7fa": {
     "views": []
    },
    "81633120e61a47c49e7e7cde277d7af9": {
     "views": []
    },
    "84734c2e88a0466e9492e93747befc49": {
     "views": []
    },
    "86ed6062cea3471eb52e395764c1edb4": {
     "views": [
      {
       "cell_index": 13
      }
     ]
    },
    "94ad29c1c4644f45a4749874ddd0c1fc": {
     "views": []
    },
    "953eb61e1af74f32998d6f61967006cb": {
     "views": []
    },
    "98b9cda7c3ff48df8639759fd249bee8": {
     "views": []
    },
    "9912b3cefd69439cae64925eedf97ee3": {
     "views": []
    },
    "9989ee405297420da7ba25fc0a2068cc": {
     "views": [
      {
       "cell_index": 13
      }
     ]
    },
    "9a0de86e07334d27a052b2f4edd67ed1": {
     "views": []
    },
    "9c74970b79904db087057befbe464d16": {
     "views": []
    },
    "9d82a3bd77894311b87a19b044086018": {
     "views": []
    },
    "9d9ce67edd2f46c6969644ce18c40464": {
     "views": []
    },
    "9eb346c6adf34137a0e4e2cc5b3a9df0": {
     "views": []
    },
    "9ec367a05b8f41d69afc7923c11b632c": {
     "views": []
    },
    "9fa6d568f8a549d8811cccd8649f9ce2": {
     "views": []
    },
    "a19d63a0324e4cc2bb3af7dc331b5abc": {
     "views": []
    },
    "a3636a2cce744c75bb7d1bd672aaa1a9": {
     "views": []
    },
    "a3e4aa4b2ec94dfba8e07f2641229ed1": {
     "views": []
    },
    "a64837790ef04869a6b399251dcea040": {
     "views": []
    },
    "aa41497993db4f1e8ce8cb8e31751d52": {
     "views": []
    },
    "aab984197cee4e52b8d062bd8cfa9878": {
     "views": []
    },
    "ab33b20130ba4158b90b2c93cdb2116c": {
     "views": []
    },
    "ab3f83b6a6b84087b565c34a2a76aa36": {
     "views": []
    },
    "ab91869bd6e347b0adbcb3fb3a82db14": {
     "views": [
      {
       "cell_index": 13
      }
     ]
    },
    "b5537aa47c3d4088beb0e83b6cc35b2c": {
     "views": []
    },
    "b810da789f3442a5a93b30914e2b6cb0": {
     "views": []
    },
    "ba284efbb6444b74808d8ad20d4ab2d8": {
     "views": []
    },
    "bca4373a0d0e4741b9391e51dfe05525": {
     "views": []
    },
    "be8f818802844d00b6dec3892a93fe01": {
     "views": []
    },
    "beffdcc6f9514a30a71ec609c0133955": {
     "views": []
    },
    "bf6b616cbbc949dd874c3e0e4e49fe83": {
     "views": []
    },
    "c18c5aed11b647a6b0d4efcbd6b895e7": {
     "views": []
    },
    "c1da8befa7c9434099a6bd883e6039f7": {
     "views": []
    },
    "c5d5c7c363d5436688ed3780ccb5f437": {
     "views": []
    },
    "c623d679576c4d2199122117673c7d2d": {
     "views": []
    },
    "c6b3e5ff5206400d92b012428dc13ada": {
     "views": []
    },
    "cac058af8fe84d9090488f97eaf6e2c6": {
     "views": []
    },
    "cb4662815adb4cfd92fc21c09c62b242": {
     "views": []
    },
    "cfd34e25998f440193b51db9aa1aee1a": {
     "views": []
    },
    "d25ba13396474cfbba1355b34324f2c8": {
     "views": []
    },
    "d39bdd8023c746b4a823012e59c3e695": {
     "views": []
    },
    "d5239161f55643aa96a7f368202b65ff": {
     "views": []
    },
    "d6c0abd6d4c4438eb7a1341001800aa6": {
     "views": []
    },
    "d9e16f99be3f4a16a2a2d4afb41052a5": {
     "views": []
    },
    "da7ed38c90e7444fbd8cb05ba7aa29ba": {
     "views": []
    },
    "db876aad73d44ec684ff8617bb216bb6": {
     "views": []
    },
    "dc30ca57c7484d6aa2fe395006333eee": {
     "views": [
      {
       "cell_index": 13
      }
     ]
    },
    "e0ee3a3f1333466980d7d56ebee03560": {
     "views": []
    },
    "e53d57d91ae346188283343ae5aa75d7": {
     "views": []
    },
    "ebe196e6565e4193b39f079243a8b71e": {
     "views": []
    },
    "ec3003f4855e4b0796c6929aa07c9bdf": {
     "views": [
      {
       "cell_index": 13
      }
     ]
    },
    "ed07ff00310e42f190452577f1144af3": {
     "views": []
    },
    "f4218c2fd6a7434181f548e28ffbdee6": {
     "views": []
    },
    "f4b6303e7c6c41bb8cb3a0f0e87dfbef": {
     "views": []
    },
    "f6e60e625417416fa45c478d419e820b": {
     "views": []
    },
    "f747d9c58a844bf5b5939e5f6b7f3f77": {
     "views": []
    },
    "f97975725348441ebd204396e52b14ec": {
     "views": [
      {
       "cell_index": 13
      }
     ]
    },
    "fc4f654f915a4bd49cdbb664ee2b74cf": {
     "views": []
    },
    "fca1f6e81f9942b78671ffced0a6901e": {
     "views": []
    },
    "feb02650db954c01aefdc7024eac9510": {
     "views": []
    },
    "ff9730625878484bbbad310801d7b64d": {
     "views": []
    }
   },
   "version": "1.1.2"
  }
 },
 "nbformat": 4,
 "nbformat_minor": 2
}
